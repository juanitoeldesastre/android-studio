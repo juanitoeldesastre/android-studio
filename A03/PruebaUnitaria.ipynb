{
  "nbformat": 4,
  "nbformat_minor": 0,
  "metadata": {
    "colab": {
      "provenance": []
    },
    "kernelspec": {
      "name": "python3",
      "display_name": "Python 3"
    },
    "language_info": {
      "name": "python"
    }
  },
  "cells": [
    {
      "cell_type": "markdown",
      "source": [
        "Una **prueba unitaria** es un tipo de prueba de software que se enfoca en verificar el funcionamiento de una unidad individual de código, generalmente una función o un método. Su objetivo es garantizar que cada parte del código funcione de manera correcta e independiente. Estas pruebas suelen automatizarse y se ejecutan antes de integrar diferentes partes de un sistema.  \n",
        "\n",
        "### **Características de las pruebas unitarias:**\n",
        "1. **Aislamiento:** Se prueban funciones o métodos de forma independiente.\n",
        "2. **Automatización:** Se ejecutan automáticamente sin intervención manual.\n",
        "3. **Rapidez:** Son rápidas de ejecutar y ayudan a detectar errores temprano.\n",
        "4. **Facilidad de mantenimiento:** Facilitan la detección de errores cuando se hacen cambios en el código.\n",
        "\n"
      ],
      "metadata": {
        "id": "Wh4QSVQMIcPE"
      }
    },
    {
      "cell_type": "code",
      "execution_count": 1,
      "metadata": {
        "colab": {
          "base_uri": "https://localhost:8080/"
        },
        "id": "WSUfePwdDZxW",
        "outputId": "8fb1a141-e0f7-4fa5-f759-ad5f921e7330"
      },
      "outputs": [
        {
          "output_type": "stream",
          "name": "stderr",
          "text": [
            "...\n",
            "----------------------------------------------------------------------\n",
            "Ran 3 tests in 0.010s\n",
            "\n",
            "OK\n"
          ]
        },
        {
          "output_type": "execute_result",
          "data": {
            "text/plain": [
              "<unittest.main.TestProgram at 0x7ec6881cf210>"
            ]
          },
          "metadata": {},
          "execution_count": 1
        }
      ],
      "source": [
        "import unittest\n",
        "\n",
        "# Función a probar\n",
        "def suma(a, b):\n",
        "    return a + b\n",
        "\n",
        "# Clase de prueba unitaria\n",
        "class TestSuma(unittest.TestCase):\n",
        "    def test_suma_positiva(self):\n",
        "        self.assertEqual(suma(2, 3), 5)  # 2 + 3 = 5\n",
        "\n",
        "    def test_suma_negativa(self):\n",
        "        self.assertEqual(suma(-2, -3), -5)  # -2 + (-3) = -5\n",
        "\n",
        "    def test_suma_mixta(self):\n",
        "        self.assertEqual(suma(-2, 3), 1)  # -2 + 3 = 1\n",
        "\n",
        "# Ejecutar las pruebas\n",
        "unittest.main(argv=[''], exit=False)\n"
      ]
    }
  ]
}